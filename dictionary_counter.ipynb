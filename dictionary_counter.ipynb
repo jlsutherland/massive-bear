{
 "cells": [
  {
   "cell_type": "code",
   "execution_count": null,
   "metadata": {
    "collapsed": true
   },
   "outputs": [],
   "source": [
    "## Run `pip install re json pandas` before running.\n",
    "import sys\n",
    "reload(sys)\n",
    "sys.setdefaultencoding('utf-8')\n",
    "import re\n",
    "import pandas as pd\n",
    "import json"
   ]
  },
  {
   "cell_type": "code",
   "execution_count": null,
   "metadata": {
    "collapsed": true
   },
   "outputs": [],
   "source": [
    "def dictionary_count(dictionary, string):\n",
    "    \"\"\"\n",
    "    Returns count of tokens from a string, using a dictionary.\n",
    "    : @param dictionary : JSON-style dict.\n",
    "    : @param string     : String of text.\n",
    "    : return            : Dict with token counts.\n",
    "    \"\"\"\n",
    "    retobj = dict()\n",
    "    for key in dictionary: \n",
    "        if isinstance(dictionary[key], dict):\n",
    "            retobj[key] = dictionary_count(dictionary[key], string)\n",
    "        else:\n",
    "            counter = 0\n",
    "            for word in dictionary[key]:\n",
    "                if '*' in word:\n",
    "                    finder = r'\\b' + word.replace('*', '')\n",
    "                    matches = re.findall(finder, string)\n",
    "                    counter = counter + len(matches)\n",
    "                else:\n",
    "                    finder = r'\\b' + word + r'\\b'\n",
    "                    matches = re.findall(finder, string)\n",
    "                    counter = counter + len(matches)\n",
    "            retobj[key] = counter\n",
    "    return retobj"
   ]
  },
  {
   "cell_type": "code",
   "execution_count": null,
   "metadata": {
    "collapsed": true
   },
   "outputs": [],
   "source": [
    "\"\"\"\n",
    "\n",
    "Pass a dictionary that looks like the following.\n",
    "Words go into arrays in a category. Asterisks\n",
    "indicate that any character can follow the\n",
    "word stem.\n",
    "\n",
    "{\n",
    " 'culture': ['art',\n",
    "   'artistic',\n",
    "   'dance',\n",
    "   'galler*',\n",
    "   'museum*',\n",
    "   'music*',\n",
    "   'opera*',\n",
    "   'theatre*'],\n",
    " 'increasing_state': 'accommodation',\n",
    "   'age',\n",
    "   'ambulance',\n",
    "   'assist',\n",
    "   'benefit'],\n",
    "   ...\n",
    "}\n",
    "\n",
    "If you want just to count single words, you could\n",
    "pass something like this:\n",
    "\n",
    "{\n",
    " 'wordone': ['word'],\n",
    " 'wordtwo': ['word'],\n",
    " 'wordthree': ['word']\n",
    "}\n",
    "\n",
    "\"\"\""
   ]
  },
  {
   "cell_type": "code",
   "execution_count": null,
   "metadata": {
    "collapsed": true
   },
   "outputs": [],
   "source": [
    "\"\"\"\n",
    "Example to count words from single string. Use this to test your dictionary.\n",
    "You should get an object back that has counts from the words you included in\n",
    "the arrays.\n",
    "\"\"\"\n",
    "dictionary_count(dictionary, 'String of words blah blah blah')"
   ]
  },
  {
   "cell_type": "code",
   "execution_count": null,
   "metadata": {
    "collapsed": true
   },
   "outputs": [],
   "source": [
    "\"\"\"\n",
    "You would apply dictionary_count() to several chunks of text.\n",
    "You could do this by putting each chunk of text as a string into\n",
    "a dict with the form:\n",
    "\n",
    "{\n",
    " 'chunk1': 'A bunch of text here',\n",
    " 'chunk2': 'A bunch of text here too',\n",
    " ...\n",
    "}\n",
    "\n",
    "\"\"\"\n",
    "counts = {}\n",
    "for key, value in dict_of_text_chunks.iteritems():\n",
    "    counts[key] = dictionary_count(dictionary, value)\n",
    "\n",
    "counts # to check"
   ]
  },
  {
   "cell_type": "code",
   "execution_count": null,
   "metadata": {
    "collapsed": true
   },
   "outputs": [],
   "source": [
    "\"\"\"\n",
    "This chunk converts the dict into a table and saves as a CSV.\n",
    "\"\"\" \n",
    "df = pd.DataFrame.from_dict(counts)\n",
    "df.to_csv('path_to_file_location/location/file.csv')"
   ]
  }
 ],
 "metadata": {
  "kernelspec": {
   "display_name": "Python 2",
   "language": "python",
   "name": "python2"
  },
  "language_info": {
   "codemirror_mode": {
    "name": "ipython",
    "version": 2
   },
   "file_extension": ".py",
   "mimetype": "text/x-python",
   "name": "python",
   "nbconvert_exporter": "python",
   "pygments_lexer": "ipython2",
   "version": "2.7.11"
  }
 },
 "nbformat": 4,
 "nbformat_minor": 0
}
